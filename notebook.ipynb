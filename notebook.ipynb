{
 "cells": [
  {
   "cell_type": "markdown",
   "id": "9537772e-9e9a-4da9-9634-bb385e0e6730",
   "metadata": {
    "id": "IeUMW1NJanO2"
   },
   "source": [
    "## Imports"
   ]
  },
  {
   "cell_type": "code",
   "execution_count": 1,
   "id": "b5a1facd-a2d6-45fd-beb0-273aa62cf9b3",
   "metadata": {
    "editable": true,
    "slideshow": {
     "slide_type": ""
    },
    "tags": []
   },
   "outputs": [
    {
     "name": "stderr",
     "output_type": "stream",
     "text": [
      "2024-03-09 21:34:03.220348: I tensorflow/core/util/port.cc:113] oneDNN custom operations are on. You may see slightly different numerical results due to floating-point round-off errors from different computation orders. To turn them off, set the environment variable `TF_ENABLE_ONEDNN_OPTS=0`.\n",
      "2024-03-09 21:34:03.273350: E external/local_xla/xla/stream_executor/cuda/cuda_dnn.cc:9261] Unable to register cuDNN factory: Attempting to register factory for plugin cuDNN when one has already been registered\n",
      "2024-03-09 21:34:03.273384: E external/local_xla/xla/stream_executor/cuda/cuda_fft.cc:607] Unable to register cuFFT factory: Attempting to register factory for plugin cuFFT when one has already been registered\n",
      "2024-03-09 21:34:03.275991: E external/local_xla/xla/stream_executor/cuda/cuda_blas.cc:1515] Unable to register cuBLAS factory: Attempting to register factory for plugin cuBLAS when one has already been registered\n",
      "2024-03-09 21:34:03.288841: I tensorflow/core/platform/cpu_feature_guard.cc:182] This TensorFlow binary is optimized to use available CPU instructions in performance-critical operations.\n",
      "To enable the following instructions: AVX2 AVX_VNNI FMA, in other operations, rebuild TensorFlow with the appropriate compiler flags.\n",
      "2024-03-09 21:34:03.821359: W tensorflow/compiler/tf2tensorrt/utils/py_utils.cc:38] TF-TRT Warning: Could not find TensorRT\n"
     ]
    },
    {
     "name": "stdout",
     "output_type": "stream",
     "text": [
      "INFO:tensorflow:Mixed precision compatibility check (mixed_float16): OK\n",
      "Your GPU will likely run quickly with dtype policy mixed_float16 as it has compute capability of at least 7.0. Your GPU: NVIDIA GeForce RTX 3050 Ti Laptop GPU, compute capability 8.6\n"
     ]
    },
    {
     "name": "stderr",
     "output_type": "stream",
     "text": [
      "2024-03-09 21:34:06.162703: I external/local_xla/xla/stream_executor/cuda/cuda_executor.cc:901] successful NUMA node read from SysFS had negative value (-1), but there must be at least one NUMA node, so returning NUMA node zero. See more at https://github.com/torvalds/linux/blob/v6.0/Documentation/ABI/testing/sysfs-bus-pci#L344-L355\n",
      "2024-03-09 21:34:06.196428: I external/local_xla/xla/stream_executor/cuda/cuda_executor.cc:901] successful NUMA node read from SysFS had negative value (-1), but there must be at least one NUMA node, so returning NUMA node zero. See more at https://github.com/torvalds/linux/blob/v6.0/Documentation/ABI/testing/sysfs-bus-pci#L344-L355\n",
      "2024-03-09 21:34:06.196602: I external/local_xla/xla/stream_executor/cuda/cuda_executor.cc:901] successful NUMA node read from SysFS had negative value (-1), but there must be at least one NUMA node, so returning NUMA node zero. See more at https://github.com/torvalds/linux/blob/v6.0/Documentation/ABI/testing/sysfs-bus-pci#L344-L355\n",
      "2024-03-09 21:34:06.220586: I external/local_xla/xla/stream_executor/cuda/cuda_executor.cc:901] successful NUMA node read from SysFS had negative value (-1), but there must be at least one NUMA node, so returning NUMA node zero. See more at https://github.com/torvalds/linux/blob/v6.0/Documentation/ABI/testing/sysfs-bus-pci#L344-L355\n"
     ]
    }
   ],
   "source": [
    "import gc\n",
    "import matplotlib.pyplot as plt\n",
    "import numpy as np\n",
    "import tensorflow as tf\n",
    "import pickle\n",
    "import datetime\n",
    "import os\n",
    "%matplotlib inline\n",
    "\n",
    "# Force TensorFlow to use CPU only\n",
    "#tf.config.set_visible_devices([], 'GPU')\n",
    "\n",
    "# Ensure that TensorFlow doesn't allocate memory on the GPU\n",
    "#tf.config.experimental.set_memory_growth(tf.config.list_physical_devices('CPU')[0], True)\n",
    "\n",
    "# Allow memory growth on GPU devices\n",
    "gpus = tf.config.experimental.list_physical_devices('GPU')\n",
    "if gpus:\n",
    "    try:\n",
    "        for gpu in gpus:\n",
    "            tf.config.experimental.set_memory_growth(gpu, True)\n",
    "    except RuntimeError as e:\n",
    "        print(e)\n",
    "        \n",
    "from cycler import cycler\n",
    "\n",
    "from tensorflow.keras import backend as K # Importing Keras backend (by default it is Tensorflow)\n",
    "#from tensorflow.keras.applications.vgg19 import VGG19\n",
    "from tensorflow.keras.callbacks import EarlyStopping, ModelCheckpoint, TensorBoard # Callbacks\n",
    "from tensorflow.keras.layers import Input, Dense, Dropout, Conv2D, MaxPool2D, \\\n",
    "                                    Flatten, RandomFlip, RandomRotation,RandomZoom, \\\n",
    "                                    BatchNormalization, Activation # Layers to be used for building our model\n",
    "from tensorflow.keras.models import Model # The class used to create a model\n",
    "from tensorflow.keras.optimizers import Adam\n",
    "from tensorflow.keras.utils import to_categorical\n",
    "from tensorflow.random import set_seed\n",
    "\n",
    "# Set mixed precision policy for faster running times\n",
    "from tensorflow.keras import mixed_precision as mp\n",
    "mp.set_global_policy(\"mixed_float16\")"
   ]
  },
  {
   "cell_type": "markdown",
   "id": "b8e7c396-5f8c-40db-ac45-cc79a3152eef",
   "metadata": {
    "editable": true,
    "id": "j4YuxiLsanPC",
    "jp-MarkdownHeadingCollapsed": true,
    "slideshow": {
     "slide_type": ""
    },
    "tags": []
   },
   "source": [
    "### Plotting results"
   ]
  },
  {
   "cell_type": "code",
   "execution_count": 2,
   "id": "e2cd986a-b373-4eaf-8339-e0ed03fe4721",
   "metadata": {
    "editable": true,
    "slideshow": {
     "slide_type": ""
    },
    "tags": []
   },
   "outputs": [],
   "source": [
    "def plot_history(hs, metric):\n",
    "    print()\n",
    "    #plt.style.use('light_background')\n",
    "    plt.rcParams['figure.figsize'] = [15, 8]\n",
    "    plt.rcParams['font.size'] = 16\n",
    "    plt.clf()\n",
    "    \n",
    "    # Set colorblind-friendly colors\n",
    "    # plt.rcParams['axes.prop_cycle'] = cycler(color=['#1f77b4', '#ff7f0e', '#2ca02c', '#d62728', '#9467bd', '#8c564b', '#e377c2', '#7f7f7f', '#bcbd22', '#17becf'])\n",
    "    \n",
    "    # Change background to white\n",
    "    plt.style.use('tableau-colorblind10')\n",
    "\n",
    "    for label in hs:\n",
    "        plt.plot(hs[label].history[metric], label='{0:s} train {1:s}'.format(label, metric), linewidth=2)\n",
    "        plt.plot(hs[label].history['val_{0:s}'.format(metric)], label='{0:s} validation {1:s}'.format(label, metric), linewidth=2)\n",
    "    #x_ticks = np.arange(0, epochs + 1, epochs / 10)\n",
    "    #x_ticks [0] += 1\n",
    "    #plt.xticks(x_ticks)\n",
    "    plt.ylim((0, 1))\n",
    "    plt.xlabel('Epochs')\n",
    "    plt.ylabel('Loss' if metric=='loss' else 'Accuracy')\n",
    "    plt.legend()\n",
    "    plt.show()"
   ]
  },
  {
   "cell_type": "markdown",
   "id": "55e9e089-835b-483f-a4e3-32dc393491e3",
   "metadata": {
    "id": "V7rJMcFqanPF",
    "jp-MarkdownHeadingCollapsed": true
   },
   "source": [
    "### Cleaning up"
   ]
  },
  {
   "cell_type": "code",
   "execution_count": 3,
   "id": "9ae7b156-33a6-43aa-a833-39cc780a5c8e",
   "metadata": {
    "executionInfo": {
     "elapsed": 4,
     "status": "ok",
     "timestamp": 1676038206067,
     "user": {
      "displayName": "Makis Malakasiotis",
      "userId": "16264859731569017800"
     },
     "user_tz": -120
    },
    "id": "TKdrzRaVanPF"
   },
   "outputs": [],
   "source": [
    "def clean_up(model):\n",
    "    K.clear_session()\n",
    "    del model\n",
    "    gc.collect()"
   ]
  },
  {
   "cell_type": "markdown",
   "id": "f1bfc390-9e23-4e9a-a05b-fa98c9cdc8f7",
   "metadata": {
    "id": "V7rJMcFqanPF",
    "jp-MarkdownHeadingCollapsed": true
   },
   "source": [
    "### Evaluate all models in folder"
   ]
  },
  {
   "cell_type": "code",
   "execution_count": 4,
   "id": "dd8b8b97-0e48-433c-8283-0d9b4887ebc3",
   "metadata": {},
   "outputs": [],
   "source": [
    "def evaluate_models_in_folder(folder_path, X, Y, verbose=1):\n",
    "    \"\"\"\n",
    "    Evaluate all models in the specified folder on the given input data (X) and target data (Y).\n",
    "    \n",
    "    Parameters:\n",
    "        folder_path (str): The path to the folder containing the model files.\n",
    "        X (numpy.ndarray): The input data.\n",
    "        Y (numpy.ndarray): The target data.\n",
    "        verbose (int): Verbosity mode (0 or 1).\n",
    "\n",
    "    Returns:\n",
    "        dict: A dictionary containing model filenames as keys and evaluation results as values.\n",
    "    \"\"\"\n",
    "    # Dictionary to store evaluation results\n",
    "    results = {}\n",
    "    \n",
    "    # Get the list of files in the folder\n",
    "    model_files = [file for file in os.listdir(folder_path) if file.endswith(\"model.keras\")]\n",
    "\n",
    "    # Iterate over each model file\n",
    "    for model_file in model_files:\n",
    "        # Construct the full path to the model file\n",
    "        model_path = os.path.join(folder_path, model_file)\n",
    "        \n",
    "        # Load the model\n",
    "        model = tf.keras.models.load_model(model_path)\n",
    "        \n",
    "        # Evaluate the model on the test data\n",
    "        evaluation_result = model.evaluate(X, Y, verbose=verbose)\n",
    "        \n",
    "        # Store the evaluation result in the dictionary\n",
    "        results[model_file] = evaluation_result\n",
    "\n",
    "    # Sort the dictionary by accuracy\n",
    "    sorted_results = {k: v for k, v in sorted(results.items(), key=lambda item: item[1][1], reverse=True)}\n",
    "\n",
    "    return sorted_results"
   ]
  },
  {
   "cell_type": "markdown",
   "id": "b9ec24df-f0e9-4709-aa96-c97cf8d9e5f2",
   "metadata": {},
   "source": [
    "# Fashion-MNIST"
   ]
  },
  {
   "cell_type": "markdown",
   "id": "bd28fce3-4238-4c1c-914a-7de130b29aa1",
   "metadata": {},
   "source": [
    "## Load Fashion-MNIST Data from Tensorflow and preprocess"
   ]
  },
  {
   "cell_type": "code",
   "execution_count": 6,
   "id": "34a3025b-7d1f-40b8-aeff-5fabb6d2073f",
   "metadata": {},
   "outputs": [
    {
     "name": "stdout",
     "output_type": "stream",
     "text": [
      "Training images shape: (60000, 28, 28)\n",
      "Training labels shape: (60000,)\n",
      "Testing images shape: (10000, 28, 28)\n",
      "Testing labels shape: (10000,)\n"
     ]
    },
    {
     "data": {
      "image/png": "[encoded data removed]",
      "text/plain": [
       "<Figure size 1000x500 with 10 Axes>"
      ]
     },
     "metadata": {},
     "output_type": "display_data"
    }
   ],
   "source": [
    "# Load Fashion MNIST dataset\n",
    "(train_images, train_labels), (test_images, test_labels) = tf.keras.datasets.fashion_mnist.load_data()\n",
    "\n",
    "# Print shapes of the loaded data\n",
    "print(\"Training images shape:\", train_images.shape)\n",
    "print(\"Training labels shape:\", train_labels.shape)\n",
    "print(\"Testing images shape:\", test_images.shape)\n",
    "print(\"Testing labels shape:\", test_labels.shape)\n",
    "\n",
    "# Define class names\n",
    "class_names = ['T-shirt/top', 'Trouser', 'Pullover', 'Dress', 'Coat', 'Sandal', 'Shirt', 'Sneaker', 'Bag', 'Ankle boot']\n",
    "\n",
    "# Plot 10 random examples with their labels\n",
    "plt.figure(figsize=(10, 5))\n",
    "for i in range(10):\n",
    "    idx = np.random.randint(0, train_images.shape[0])\n",
    "    plt.subplot(2, 5, i+1)\n",
    "    plt.imshow(train_images[idx], cmap='gray')\n",
    "    plt.title(class_names[train_labels[idx]])\n",
    "    plt.axis('off')\n",
    "\n",
    "plt.show()"
   ]
  },
  {
   "cell_type": "markdown",
   "id": "8a9d5d3c-9539-4450-b137-e9ad7c224b27",
   "metadata": {
    "jp-MarkdownHeadingCollapsed": true
   },
   "source": [
    "## MLP"
   ]
  },
  {
   "cell_type": "code",
   "execution_count": 15,
   "id": "5ea2b404-7788-4ab6-8b25-51090c02a8a3",
   "metadata": {},
   "outputs": [],
   "source": [
    "X_train = train_images.reshape(60000, 28*28)/255\n",
    "X_test = test_images.reshape(10000, 28*28)/255\n",
    "X_train = X_train.astype('float32')\n",
    "X_test = X_test.astype('float32')\n",
    "Y_train = to_categorical(train_labels, num_classes= 10)\n",
    "Y_test = to_categorical(test_labels, num_classes= 10)"
   ]
  },
  {
   "cell_type": "code",
   "execution_count": 32,
   "id": "0860488b-4a04-49ec-a772-8d87ccbc6640",
   "metadata": {
    "editable": true,
    "executionInfo": {
     "elapsed": 357,
     "status": "ok",
     "timestamp": 1676026752654,
     "user": {
      "displayName": "Makis Malakasiotis",
      "userId": "16264859731569017800"
     },
     "user_tz": -120
    },
    "id": "h1VCF6xq1Q8b",
    "slideshow": {
     "slide_type": ""
    },
    "tags": []
   },
   "outputs": [],
   "source": [
    "def train_model_mlp_fmnist(\n",
    "        train_data,\n",
    "        train_labels,\n",
    "        optimizer,\n",
    "        epochs=100,\n",
    "        batch_size=128,\n",
    "        hidden_layers=0,\n",
    "        hidden_activation='relu',\n",
    "        output_activation='softmax',\n",
    "        dropout_rate = 0.5,\n",
    "        verbose=1,\n",
    "        model_path=\"mlp_fmnist\",\n",
    "        run_name=\"\"\n",
    "):\n",
    "    \n",
    "    np.random.seed(1177) # Define the seed for numpy to have reproducible experiments.\n",
    "    set_seed(1984) # Define the seed for Tensorflow to have reproducible experiments.\n",
    "\n",
    "    # Create model directory if it doesn't exist\n",
    "    if not os.path.exists(model_path):\n",
    "        os.makedirs(model_path)\n",
    "\n",
    "    \n",
    "    # Define the input layer.\n",
    "    input = Input(\n",
    "        shape=(28*28,),\n",
    "        name='Input'\n",
    "    )\n",
    "\n",
    "    x = input\n",
    "    \n",
    "    # Define the remaining hidden layers.\n",
    "    for i in range(hidden_layers):\n",
    "        x = Dense(\n",
    "            units=256,\n",
    "            kernel_initializer='glorot_uniform',\n",
    "            activation=hidden_activation,\n",
    "            name='Hidden-{0:d}'.format(i + 1)\n",
    "        )(x)\n",
    "        \n",
    "    # Add Dropout layer\n",
    "        x = Dropout(\n",
    "            rate=dropout_rate,\n",
    "            name='Dropout-{0:d}'.format(i+1)\n",
    "        )(x)\n",
    "        \n",
    "    # Define the output layer.\n",
    "    output = Dense(\n",
    "        units=10,\n",
    "        kernel_initializer='glorot_uniform',\n",
    "        activation=output_activation,\n",
    "        name='Output'\n",
    "    )(x)\n",
    "\n",
    "    # Define callbacks list and paths\n",
    "    log_dir = os.path.join(model_path, \"logs\",run_name+datetime.datetime.now().strftime(\"%Y%m%d-%H%M\"))\n",
    "\n",
    "    checkpoint_path = os.path.join(model_path, run_name+\"checkpoints.keras\")\n",
    "    \n",
    "    callbacks_list = [\n",
    "        EarlyStopping(\n",
    "            monitor='val_accuracy',\n",
    "            patience=10,\n",
    "            verbose=1,\n",
    "            restore_best_weights=True\n",
    "        ),\n",
    "        ModelCheckpoint(\n",
    "            filepath=checkpoint_path,\n",
    "            monitor=\"val_loss\",\n",
    "            save_best_only=True,\n",
    "        ),\n",
    "        TensorBoard(\n",
    "            log_dir=log_dir,\n",
    "            histogram_freq = 1,\n",
    "            profile_batch = '500,520'\n",
    "        )\n",
    "    ]\n",
    "        \n",
    "            \n",
    "    # Define the model and train it.\n",
    "    model = Model(inputs=input, outputs=output, name=model_path)\n",
    "    model.compile(optimizer=optimizer,\n",
    "                  loss='categorical_crossentropy',\n",
    "                  metrics=['accuracy'])\n",
    "    \n",
    "    # Print a description of the model.\n",
    "    model.summary() \n",
    "    \n",
    "    hs = model.fit(\n",
    "        x=X_train,\n",
    "        y=Y_train,\n",
    "        validation_split=0.1, # use 10% of the training data as validation data\n",
    "        epochs=epochs,\n",
    "        callbacks=callbacks_list, #callbacks used\n",
    "        verbose=verbose,\n",
    "        batch_size=batch_size\n",
    "        \n",
    "    )\n",
    "    print('Finished training.')\n",
    "    print('------------------')\n",
    "\n",
    "\n",
    "    # Save the model\n",
    "    model.save(os.path.join(model_path, run_name+\"model.keras\"))\n",
    "\n",
    "    # Save the training history\n",
    "    with open(os.path.join(model_path, run_name+\"history.pkl\"), 'wb') as file:\n",
    "        pickle.dump(hs, file)\n",
    "\n",
    "    return model, hs\n"
   ]
  },
  {
   "cell_type": "code",
   "execution_count": 36,
   "id": "f3a456f8-7d2f-4a23-bb7f-d9216729a82f",
   "metadata": {
    "editable": true,
    "scrolled": true,
    "slideshow": {
     "slide_type": ""
    },
    "tags": []
   },
   "outputs": [
    {
     "name": "stdout",
     "output_type": "stream",
     "text": [
      "Model: \"mlp_fmnist\"\n",
      "_________________________________________________________________\n",
      " Layer (type)                Output Shape              Param #   \n",
      "=================================================================\n",
      " Input (InputLayer)          [(None, 784)]             0         \n",
      "                                                                 \n",
      " Hidden-1 (Dense)            (None, 256)               200960    \n",
      "                                                                 \n",
      " Dropout-1 (Dropout)         (None, 256)               0         \n",
      "                                                                 \n",
      " Hidden-2 (Dense)            (None, 256)               65792     \n",
      "                                                                 \n",
      " Dropout-2 (Dropout)         (None, 256)               0         \n",
      "                                                                 \n",
      " Hidden-3 (Dense)            (None, 256)               65792     \n",
      "                                                                 \n",
      " Dropout-3 (Dropout)         (None, 256)               0         \n",
      "                                                                 \n",
      " Output (Dense)              (None, 10)                2570      \n",
      "                                                                 \n",
      "=================================================================\n",
      "Total params: 335114 (1.28 MB)\n",
      "Trainable params: 335114 (1.28 MB)\n",
      "Non-trainable params: 0 (0.00 Byte)\n",
      "_________________________________________________________________\n",
      "Epoch 1/100\n"
     ]
    },
    {
     "name": "stderr",
     "output_type": "stream",
     "text": [
      "2024-03-09 16:44:18.590538: I external/local_tsl/tsl/profiler/lib/profiler_session.cc:104] Profiler session initializing.\n",
      "2024-03-09 16:44:18.590557: I external/local_tsl/tsl/profiler/lib/profiler_session.cc:119] Profiler session started.\n",
      "2024-03-09 16:44:18.590571: E external/local_xla/xla/backends/profiler/gpu/cupti_error_manager.cc:135] cuptiGetTimestamp: ignored due to a previous error.\n",
      "2024-03-09 16:44:18.590574: E external/local_xla/xla/backends/profiler/gpu/cupti_error_manager.cc:186] cuptiSubscribe: ignored due to a previous error.\n",
      "2024-03-09 16:44:18.590576: E external/local_xla/xla/backends/profiler/gpu/cupti_error_manager.cc:459] cuptiGetResultString: ignored due to a previous error.\n",
      "2024-03-09 16:44:18.590579: E external/local_xla/xla/backends/profiler/gpu/cupti_tracer.cc:1935] function cupti_interface_->Subscribe( &subscriber_, (CUpti_CallbackFunc)ApiCallback, this)failed with error \n",
      "2024-03-09 16:44:18.590688: I external/local_tsl/tsl/profiler/lib/profiler_session.cc:131] Profiler session tear down.\n",
      "2024-03-09 16:44:18.597406: E external/local_xla/xla/backends/profiler/gpu/cupti_error_manager.cc:142] cuptiFinalize: ignored due to a previous error.\n",
      "2024-03-09 16:44:18.597415: E external/local_xla/xla/backends/profiler/gpu/cupti_error_manager.cc:459] cuptiGetResultString: ignored due to a previous error.\n",
      "2024-03-09 16:44:18.597417: E external/local_xla/xla/backends/profiler/gpu/cupti_tracer.cc:2026] function cupti_interface_->Finalize()failed with error \n"
     ]
    },
    {
     "name": "stdout",
     "output_type": "stream",
     "text": [
      "422/422 [==============================] - 2s 4ms/step - loss: 0.7019 - accuracy: 0.7448 - val_loss: 0.4319 - val_accuracy: 0.8427\n",
      "Epoch 2/100\n",
      " 98/422 [=====>........................] - ETA: 1s - loss: 0.4873 - accuracy: 0.8233"
     ]
    },
    {
     "name": "stderr",
     "output_type": "stream",
     "text": [
      "2024-03-09 16:44:21.409854: I external/local_tsl/tsl/profiler/lib/profiler_session.cc:104] Profiler session initializing.\n",
      "2024-03-09 16:44:21.409888: I external/local_tsl/tsl/profiler/lib/profiler_session.cc:119] Profiler session started.\n",
      "2024-03-09 16:44:21.409905: E external/local_xla/xla/backends/profiler/gpu/cupti_error_manager.cc:135] cuptiGetTimestamp: ignored due to a previous error.\n",
      "2024-03-09 16:44:21.409912: E external/local_xla/xla/backends/profiler/gpu/cupti_error_manager.cc:186] cuptiSubscribe: ignored due to a previous error.\n",
      "2024-03-09 16:44:21.409917: E external/local_xla/xla/backends/profiler/gpu/cupti_error_manager.cc:459] cuptiGetResultString: ignored due to a previous error.\n",
      "2024-03-09 16:44:21.409922: E external/local_xla/xla/backends/profiler/gpu/cupti_tracer.cc:1935] function cupti_interface_->Subscribe( &subscriber_, (CUpti_CallbackFunc)ApiCallback, this)failed with error \n",
      "2024-03-09 16:44:21.557726: I external/local_tsl/tsl/profiler/lib/profiler_session.cc:70] Profiler session collecting data.\n",
      "2024-03-09 16:44:21.563210: E external/local_xla/xla/backends/profiler/gpu/cupti_error_manager.cc:142] cuptiFinalize: ignored due to a previous error.\n",
      "2024-03-09 16:44:21.563220: E external/local_xla/xla/backends/profiler/gpu/cupti_error_manager.cc:459] cuptiGetResultString: ignored due to a previous error.\n",
      "2024-03-09 16:44:21.563223: E external/local_xla/xla/backends/profiler/gpu/cupti_tracer.cc:2026] function cupti_interface_->Finalize()failed with error \n",
      "2024-03-09 16:44:21.577109: E external/local_xla/xla/backends/profiler/gpu/cupti_error_manager.cc:135] cuptiGetTimestamp: ignored due to a previous error.\n",
      "2024-03-09 16:44:21.577120: E external/local_xla/xla/backends/profiler/gpu/cupti_error_manager.cc:135] cuptiGetTimestamp: ignored due to a previous error.\n",
      "2024-03-09 16:44:21.577123: I external/local_xla/xla/backends/profiler/gpu/cupti_collector.cc:541]  GpuTracer has collected 0 callback api events and 0 activity events. \n",
      "2024-03-09 16:44:21.582509: I external/local_tsl/tsl/profiler/lib/profiler_session.cc:131] Profiler session tear down.\n",
      "2024-03-09 16:44:21.582596: I external/local_tsl/tsl/profiler/rpc/client/save_profile.cc:144] Collecting XSpace to repository: mlp_fmnist/logs/with_dropout0.5_20240309-1644/plugins/profile/2024_03_09_16_44_21/etheleigh.xplane.pb\n"
     ]
    },
    {
     "name": "stdout",
     "output_type": "stream",
     "text": [
      "422/422 [==============================] - 1s 3ms/step - loss: 0.4828 - accuracy: 0.8282 - val_loss: 0.3882 - val_accuracy: 0.8527\n",
      "Epoch 3/100\n",
      "422/422 [==============================] - 1s 3ms/step - loss: 0.4406 - accuracy: 0.8429 - val_loss: 0.3615 - val_accuracy: 0.8697\n",
      "Epoch 4/100\n",
      "422/422 [==============================] - 1s 3ms/step - loss: 0.4168 - accuracy: 0.8494 - val_loss: 0.3496 - val_accuracy: 0.8717\n",
      "Epoch 5/100\n",
      "422/422 [==============================] - 2s 4ms/step - loss: 0.3959 - accuracy: 0.8571 - val_loss: 0.3646 - val_accuracy: 0.8653\n",
      "Epoch 6/100\n",
      "422/422 [==============================] - 1s 3ms/step - loss: 0.3921 - accuracy: 0.8595 - val_loss: 0.3400 - val_accuracy: 0.8788\n",
      "Epoch 7/100\n",
      "422/422 [==============================] - 1s 3ms/step - loss: 0.3737 - accuracy: 0.8653 - val_loss: 0.3413 - val_accuracy: 0.8748\n",
      "Epoch 8/100\n",
      "422/422 [==============================] - 1s 3ms/step - loss: 0.3666 - accuracy: 0.8673 - val_loss: 0.3478 - val_accuracy: 0.8728\n",
      "Epoch 9/100\n",
      "422/422 [==============================] - 1s 3ms/step - loss: 0.3584 - accuracy: 0.8716 - val_loss: 0.3360 - val_accuracy: 0.8738\n",
      "Epoch 10/100\n",
      "422/422 [==============================] - 1s 3ms/step - loss: 0.3569 - accuracy: 0.8715 - val_loss: 0.3223 - val_accuracy: 0.8832\n",
      "Epoch 11/100\n",
      "422/422 [==============================] - 1s 3ms/step - loss: 0.3520 - accuracy: 0.8730 - val_loss: 0.3263 - val_accuracy: 0.8813\n",
      "Epoch 12/100\n",
      "422/422 [==============================] - 1s 3ms/step - loss: 0.3477 - accuracy: 0.8748 - val_loss: 0.3101 - val_accuracy: 0.8852\n",
      "Epoch 13/100\n",
      "422/422 [==============================] - 2s 4ms/step - loss: 0.3423 - accuracy: 0.8766 - val_loss: 0.3219 - val_accuracy: 0.8888\n",
      "Epoch 14/100\n",
      "422/422 [==============================] - 1s 3ms/step - loss: 0.3373 - accuracy: 0.8784 - val_loss: 0.3099 - val_accuracy: 0.8875\n",
      "Epoch 15/100\n",
      "422/422 [==============================] - 1s 3ms/step - loss: 0.3348 - accuracy: 0.8788 - val_loss: 0.3167 - val_accuracy: 0.8843\n",
      "Epoch 16/100\n",
      "422/422 [==============================] - 1s 3ms/step - loss: 0.3368 - accuracy: 0.8781 - val_loss: 0.3225 - val_accuracy: 0.8878\n",
      "Epoch 17/100\n",
      "422/422 [==============================] - 1s 3ms/step - loss: 0.3321 - accuracy: 0.8814 - val_loss: 0.3334 - val_accuracy: 0.8807\n",
      "Epoch 18/100\n",
      "422/422 [==============================] - 1s 3ms/step - loss: 0.3281 - accuracy: 0.8801 - val_loss: 0.3120 - val_accuracy: 0.8895\n",
      "Epoch 19/100\n",
      "422/422 [==============================] - 1s 3ms/step - loss: 0.3225 - accuracy: 0.8825 - val_loss: 0.3014 - val_accuracy: 0.8897\n",
      "Epoch 20/100\n",
      "422/422 [==============================] - 1s 3ms/step - loss: 0.3202 - accuracy: 0.8848 - val_loss: 0.3149 - val_accuracy: 0.8893\n",
      "Epoch 21/100\n",
      "422/422 [==============================] - 1s 3ms/step - loss: 0.3174 - accuracy: 0.8845 - val_loss: 0.3132 - val_accuracy: 0.8880\n",
      "Epoch 22/100\n",
      "422/422 [==============================] - 1s 3ms/step - loss: 0.3151 - accuracy: 0.8851 - val_loss: 0.3060 - val_accuracy: 0.8925\n",
      "Epoch 23/100\n",
      "422/422 [==============================] - 2s 4ms/step - loss: 0.3095 - accuracy: 0.8872 - val_loss: 0.3082 - val_accuracy: 0.8898\n",
      "Epoch 24/100\n",
      "422/422 [==============================] - 1s 3ms/step - loss: 0.3075 - accuracy: 0.8885 - val_loss: 0.3138 - val_accuracy: 0.8877\n",
      "Epoch 25/100\n",
      "422/422 [==============================] - 1s 3ms/step - loss: 0.3017 - accuracy: 0.8904 - val_loss: 0.3135 - val_accuracy: 0.8880\n",
      "Epoch 26/100\n",
      "422/422 [==============================] - 1s 3ms/step - loss: 0.3064 - accuracy: 0.8895 - val_loss: 0.3160 - val_accuracy: 0.8930\n",
      "Epoch 27/100\n",
      "422/422 [==============================] - 1s 3ms/step - loss: 0.3022 - accuracy: 0.8906 - val_loss: 0.3115 - val_accuracy: 0.8910\n",
      "Epoch 28/100\n",
      "422/422 [==============================] - 1s 3ms/step - loss: 0.2978 - accuracy: 0.8931 - val_loss: 0.3204 - val_accuracy: 0.8895\n",
      "Epoch 29/100\n",
      "422/422 [==============================] - 1s 3ms/step - loss: 0.2974 - accuracy: 0.8921 - val_loss: 0.3094 - val_accuracy: 0.8907\n",
      "Epoch 30/100\n",
      "422/422 [==============================] - 1s 3ms/step - loss: 0.2916 - accuracy: 0.8952 - val_loss: 0.3132 - val_accuracy: 0.8912\n",
      "Epoch 31/100\n",
      "422/422 [==============================] - 1s 3ms/step - loss: 0.2969 - accuracy: 0.8925 - val_loss: 0.3256 - val_accuracy: 0.8857\n",
      "Epoch 32/100\n",
      "422/422 [==============================] - 1s 3ms/step - loss: 0.2980 - accuracy: 0.8921 - val_loss: 0.3151 - val_accuracy: 0.8917\n",
      "Epoch 33/100\n",
      "422/422 [==============================] - 2s 4ms/step - loss: 0.2961 - accuracy: 0.8932 - val_loss: 0.3231 - val_accuracy: 0.8902\n",
      "Epoch 34/100\n",
      "422/422 [==============================] - 1s 3ms/step - loss: 0.2952 - accuracy: 0.8938 - val_loss: 0.3166 - val_accuracy: 0.8870\n",
      "Epoch 35/100\n",
      "422/422 [==============================] - 1s 3ms/step - loss: 0.2911 - accuracy: 0.8954 - val_loss: 0.3080 - val_accuracy: 0.8905\n",
      "Epoch 36/100\n",
      "422/422 [==============================] - 2s 4ms/step - loss: 0.2865 - accuracy: 0.8966 - val_loss: 0.3032 - val_accuracy: 0.8942\n",
      "Epoch 37/100\n",
      "422/422 [==============================] - 1s 3ms/step - loss: 0.2904 - accuracy: 0.8951 - val_loss: 0.3069 - val_accuracy: 0.8915\n",
      "Epoch 38/100\n",
      "422/422 [==============================] - 1s 3ms/step - loss: 0.2871 - accuracy: 0.8959 - val_loss: 0.3051 - val_accuracy: 0.8910\n",
      "Epoch 39/100\n",
      "422/422 [==============================] - 1s 3ms/step - loss: 0.2911 - accuracy: 0.8942 - val_loss: 0.3119 - val_accuracy: 0.8930\n",
      "Epoch 40/100\n",
      "422/422 [==============================] - 1s 3ms/step - loss: 0.2822 - accuracy: 0.8982 - val_loss: 0.3150 - val_accuracy: 0.8920\n",
      "Epoch 41/100\n",
      "422/422 [==============================] - 1s 3ms/step - loss: 0.2841 - accuracy: 0.8978 - val_loss: 0.3161 - val_accuracy: 0.8877\n",
      "Epoch 42/100\n",
      "422/422 [==============================] - 1s 3ms/step - loss: 0.2799 - accuracy: 0.8978 - val_loss: 0.3250 - val_accuracy: 0.8883\n",
      "Epoch 43/100\n",
      "422/422 [==============================] - 1s 3ms/step - loss: 0.2859 - accuracy: 0.8964 - val_loss: 0.3167 - val_accuracy: 0.8910\n",
      "Epoch 44/100\n",
      "422/422 [==============================] - 1s 3ms/step - loss: 0.2790 - accuracy: 0.8984 - val_loss: 0.3137 - val_accuracy: 0.8925\n",
      "Epoch 45/100\n",
      "422/422 [==============================] - 1s 3ms/step - loss: 0.2818 - accuracy: 0.8980 - val_loss: 0.3112 - val_accuracy: 0.8915\n",
      "Epoch 46/100\n",
      "415/422 [============================>.] - ETA: 0s - loss: 0.2800 - accuracy: 0.8985Restoring model weights from the end of the best epoch: 36.\n",
      "422/422 [==============================] - 1s 3ms/step - loss: 0.2797 - accuracy: 0.8986 - val_loss: 0.3164 - val_accuracy: 0.8903\n",
      "Epoch 46: early stopping\n",
      "Finished training.\n",
      "------------------\n"
     ]
    }
   ],
   "source": [
    "optimizer = Adam() #standard learning rate\n",
    "optimizer = mp.LossScaleOptimizer(optimizer)\n",
    "\n",
    "model_path=\"mlp_fmnist\"\n",
    "run_name=\"with_dropout0.5_\"\n",
    "\n",
    "# MLP\n",
    "mlp_model_fmnist, mlp_hs_fmnist = train_model_mlp_fmnist(\n",
    "    train_data=X_train,\n",
    "    train_labels=Y_train,\n",
    "    optimizer=optimizer,\n",
    "    epochs=100,\n",
    "    batch_size=128,\n",
    "    hidden_layers=3,\n",
    "    hidden_activation='gelu',\n",
    "    output_activation='softmax',\n",
    "    dropout_rate=0.5,\n",
    "    verbose=1,\n",
    "    model_path=model_path,\n",
    "    run_name=run_name\n",
    ")"
   ]
  },
  {
   "cell_type": "code",
   "execution_count": 37,
   "id": "2f73230a-1d8c-4fcd-af4d-d71a7e83e02d",
   "metadata": {
    "editable": true,
    "slideshow": {
     "slide_type": ""
    },
    "tags": []
   },
   "outputs": [
    {
     "name": "stdout",
     "output_type": "stream",
     "text": [
      "313/313 [==============================] - 0s 1ms/step - loss: 0.3207 - accuracy: 0.8892\n",
      "\n"
     ]
    },
    {
     "data": {
      "image/png": "[encoded data removed]",
      "text/plain": [
       "<Figure size 1500x800 with 1 Axes>"
      ]
     },
     "metadata": {},
     "output_type": "display_data"
    }
   ],
   "source": [
    "# Load model and evaluate on test data. Show all the results.\n",
    "model = tf.keras.models.load_model(\"mlp_fmnist/with_dropout0.5_model.keras\")\n",
    "\n",
    "mlp_eval_fmnist = model.evaluate(X_test, Y_test, verbose=1)\n",
    "\n",
    "# Load and plot the history\n",
    "with open('mlp_fmnist/with_dropout0.5_history.pkl', 'rb') as file:\n",
    "    loaded_history = pickle.load(file)\n",
    "\n",
    "plot_history(hs={'Fashion MNIST - MLP-Dropout 0.5': loaded_history}, metric='accuracy')"
   ]
  },
  {
   "cell_type": "code",
   "execution_count": 9,
   "id": "9fdf360e-a5fc-4208-a57a-e7f408722726",
   "metadata": {
    "editable": true,
    "slideshow": {
     "slide_type": ""
    },
    "tags": []
   },
   "outputs": [],
   "source": [
    "# physical_devices = tf.config.list_physical_devices('GPU')\n",
    "# if physical_devices:\n",
    "#     tf.config.experimental.set_memory_growth(physical_devices[0], True)"
   ]
  },
  {
   "cell_type": "markdown",
   "id": "5b782a70-4e8b-433f-a783-db24be97aa89",
   "metadata": {},
   "source": [
    "## CNN"
   ]
  },
  {
   "cell_type": "code",
   "execution_count": 7,
   "id": "eb29b650-2954-466a-90e3-c8be03d8dde0",
   "metadata": {
    "editable": true,
    "slideshow": {
     "slide_type": ""
    },
    "tags": []
   },
   "outputs": [],
   "source": [
    "# Preprocess the data\n",
    "\n",
    "X_train = train_images.reshape(60000, 28,28,1)/255\n",
    "X_test = test_images.reshape(10000, 28,28,1)/255\n",
    "\n",
    "input_shape = (28,28,1) # 1 channel and 28x28 size\n",
    "X_train = X_train.astype('float32')\n",
    "X_test = X_test.astype('float32')\n",
    "\n",
    "Y_train = to_categorical(train_labels, num_classes= 10)\n",
    "Y_test = to_categorical(test_labels, num_classes= 10)"
   ]
  },
  {
   "cell_type": "code",
   "execution_count": 11,
   "id": "5502075d-0688-47cc-9375-8d9cca9a5b17",
   "metadata": {
    "editable": true,
    "slideshow": {
     "slide_type": ""
    },
    "tags": []
   },
   "outputs": [],
   "source": [
    "def train_model_cnn_fmnist(\n",
    "        train_data,\n",
    "        train_labels,\n",
    "        optimizer,\n",
    "        epochs=100,\n",
    "        batch_size=128,\n",
    "        data_augmentation=False,\n",
    "        batch_normalization=False,\n",
    "        num_filters=8,\n",
    "        conv_layers=0,\n",
    "        conv_activation='relu',\n",
    "        conv_dropout=False,\n",
    "        dropout_rate=0.2,\n",
    "        output_activation='softmax',\n",
    "        verbose=1,\n",
    "        model_path=\"cnn_fmnist\",\n",
    "        run_name=\"\"\n",
    "):\n",
    "    \n",
    "    np.random.seed(1177) # Define the seed for numpy to have reproducible experiments.\n",
    "    set_seed(1984) # Define the seed for Tensorflow to have reproducible experiments.\n",
    "    \n",
    "    # Create model directory if it doesn't exist\n",
    "    if not os.path.exists(model_path):\n",
    "        os.makedirs(model_path)\n",
    "\n",
    "    \n",
    "    # Define the input layer.\n",
    "    input = Input(\n",
    "        shape=input_shape,\n",
    "        name='Input'\n",
    "    )\n",
    "\n",
    "    if data_augmentation:\n",
    "        x = RandomFlip(\"horizontal\")(input)\n",
    "        x = RandomRotation(0.1)(x)\n",
    "        x = RandomZoom(0.2)(x)\n",
    "    else:\n",
    "        x = input\n",
    "\n",
    "    \n",
    "    # Define the convolutional layers.\n",
    "    for i in range(conv_layers):\n",
    "        x = Conv2D(\n",
    "            filters=num_filters*(2**i),\n",
    "            kernel_size=(3, 3),\n",
    "            strides=(1, 1),\n",
    "            padding='same',\n",
    "            dilation_rate=(1, 1),\n",
    "            activation=conv_activation,\n",
    "            use_bias = not batch_normalization,\n",
    "            name='Conv2D-{0:d}'.format(i + 1)\n",
    "        )(x)\n",
    "        \n",
    "        if batch_normalization: x = BatchNormalization(name='BatchNorm-{0:d}'.format(i + 1))(x)\n",
    "            \n",
    "        x = Activation(activation=conv_activation)(x)\n",
    "\n",
    "        x = MaxPool2D(\n",
    "            pool_size=(2, 2),\n",
    "            strides=(2, 2),\n",
    "            padding='same',\n",
    "            name='MaxPool2D-{0:d}'.format(i + 1)\n",
    "        )(x)\n",
    "        if conv_dropout:\n",
    "            x = Dropout(\n",
    "                rate=dropout_rate,\n",
    "                name='Conv_Dropout-{0:d}'.format(i + 1)\n",
    "            )(x)\n",
    "    # Flatten the convolved images so as to input them to a Dense Layer\n",
    "    x = Flatten(name='Flatten')(x)\n",
    "    x = Dropout(0.2)(x)\n",
    "\n",
    "    # Add also a Dense layer\n",
    "    x = Dense(256, name='Dense-{:d}'.format(1))(x)\n",
    "    x = Dropout(dropout_rate,name='Dense_Dropout-{:d}'.format(1))(x)\n",
    "    x = Dense(128,name='Dense-{:d}'.format(2))(x)\n",
    "    x = Dropout(dropout_rate,name='Dense_Dropout-{:d}'.format(2))(x)\n",
    "    \n",
    "    # Define the output layer.\n",
    "    output = Dense(\n",
    "        units=10,\n",
    "        kernel_initializer='glorot_uniform',\n",
    "        activation=output_activation,\n",
    "        name='Output'\n",
    "    )(x)\n",
    "\n",
    "    # Define callbacks list and paths\n",
    "    log_dir = os.path.join(model_path, \"logs\",run_name+datetime.datetime.now().strftime(\"%Y%m%d-%H%M\"))\n",
    "\n",
    "    checkpoint_path = os.path.join(model_path, run_name+\"checkpoints.keras\")\n",
    "    \n",
    "    callbacks_list = [\n",
    "        EarlyStopping(\n",
    "            monitor='val_accuracy',\n",
    "            patience=20,\n",
    "            verbose=1,\n",
    "            restore_best_weights=True\n",
    "        ),\n",
    "        ModelCheckpoint(\n",
    "            filepath=checkpoint_path,\n",
    "            monitor=\"val_loss\",\n",
    "            save_best_only=True,\n",
    "        ),\n",
    "        TensorBoard(\n",
    "            log_dir=log_dir,\n",
    "            histogram_freq = 1,\n",
    "            profile_batch = '500,520'\n",
    "        )\n",
    "    ]\n",
    "        \n",
    "            \n",
    "    # Define the model and train it.\n",
    "    model = Model(inputs=input, outputs=output, name=model_path)\n",
    "    model.compile(optimizer=optimizer,\n",
    "                  loss='categorical_crossentropy',\n",
    "                  metrics=['accuracy'])\n",
    "    \n",
    "    # Print a description of the model.\n",
    "    model.summary() \n",
    "    \n",
    "    hs = model.fit(\n",
    "        x=X_train,\n",
    "        y=Y_train,\n",
    "        validation_split=0.1, # use 10% of the training data as validation data\n",
    "        epochs=epochs,\n",
    "        callbacks=callbacks_list, #callbacks used\n",
    "        verbose=verbose,\n",
    "        batch_size=batch_size\n",
    "        \n",
    "    )\n",
    "    print('Finished training.')\n",
    "    print('------------------')\n",
    "\n",
    "\n",
    "    # Save the model\n",
    "    model.save(os.path.join(model_path, run_name+\"model.keras\"))\n",
    "\n",
    "    # Save the training history\n",
    "    with open(os.path.join(model_path, run_name+\"history.pkl\"), 'wb') as file:\n",
    "        pickle.dump(hs, file)\n",
    "\n",
    "    return model, hs\n"
   ]
  },
  {
   "cell_type": "code",
   "execution_count": 10,
   "id": "e912ee60-653b-4dbd-91c5-c016c0f1aed9",
   "metadata": {
    "editable": true,
    "scrolled": true,
    "slideshow": {
     "slide_type": ""
    },
    "tags": []
   },
   "outputs": [
    {
     "name": "stdout",
     "output_type": "stream",
     "text": [
      "Model: \"cnn_fmnist\"\n",
      "_________________________________________________________________\n",
      " Layer (type)                Output Shape              Param #   \n",
      "=================================================================\n",
      " Input (InputLayer)          [(None, 28, 28, 1)]       0         \n",
      "                                                                 \n",
      " Conv2D-1 (Conv2D)           (None, 28, 28, 32)        288       \n",
      "                                                                 \n",
      " BatchNorm-1 (BatchNormaliz  (None, 28, 28, 32)        128       \n",
      " ation)                                                          \n",
      "                                                                 \n",
      " activation (Activation)     (None, 28, 28, 32)        0         \n",
      "                                                                 \n",
      " MaxPool2D-1 (MaxPooling2D)  (None, 14, 14, 32)        0         \n",
      "                                                                 \n",
      " Conv_Dropout-1 (Dropout)    (None, 14, 14, 32)        0         \n",
      "                                                                 \n",
      " Conv2D-2 (Conv2D)           (None, 14, 14, 64)        18432     \n",
      "                                                                 \n",
      " BatchNorm-2 (BatchNormaliz  (None, 14, 14, 64)        256       \n",
      " ation)                                                          \n",
      "                                                                 \n",
      " activation_1 (Activation)   (None, 14, 14, 64)        0         \n",
      "                                                                 \n",
      " MaxPool2D-2 (MaxPooling2D)  (None, 7, 7, 64)          0         \n",
      "                                                                 \n",
      " Conv_Dropout-2 (Dropout)    (None, 7, 7, 64)          0         \n",
      "                                                                 \n",
      " Flatten (Flatten)           (None, 3136)              0         \n",
      "                                                                 \n",
      " dropout (Dropout)           (None, 3136)              0         \n",
      "                                                                 \n",
      " Dense-1 (Dense)             (None, 256)               803072    \n",
      "                                                                 \n",
      " Dense_Dropout-1 (Dropout)   (None, 256)               0         \n",
      "                                                                 \n",
      " Dense-2 (Dense)             (None, 128)               32896     \n",
      "                                                                 \n",
      " Dense_Dropout-2 (Dropout)   (None, 128)               0         \n",
      "                                                                 \n",
      " Output (Dense)              (None, 10)                1290      \n",
      "                                                                 \n",
      "=================================================================\n",
      "Total params: 856362 (3.27 MB)\n",
      "Trainable params: 856170 (3.27 MB)\n",
      "Non-trainable params: 192 (768.00 Byte)\n",
      "_________________________________________________________________\n"
     ]
    },
    {
     "name": "stderr",
     "output_type": "stream",
     "text": [
      "2024-03-09 21:35:55.340543: I external/local_xla/xla/stream_executor/cuda/cuda_executor.cc:901] successful NUMA node read from SysFS had negative value (-1), but there must be at least one NUMA node, so returning NUMA node zero. See more at https://github.com/torvalds/linux/blob/v6.0/Documentation/ABI/testing/sysfs-bus-pci#L344-L355\n",
      "2024-03-09 21:35:55.340804: I external/local_xla/xla/stream_executor/cuda/cuda_executor.cc:901] successful NUMA node read from SysFS had negative value (-1), but there must be at least one NUMA node, so returning NUMA node zero. See more at https://github.com/torvalds/linux/blob/v6.0/Documentation/ABI/testing/sysfs-bus-pci#L344-L355\n",
      "2024-03-09 21:35:55.340961: I external/local_xla/xla/stream_executor/cuda/cuda_executor.cc:901] successful NUMA node read from SysFS had negative value (-1), but there must be at least one NUMA node, so returning NUMA node zero. See more at https://github.com/torvalds/linux/blob/v6.0/Documentation/ABI/testing/sysfs-bus-pci#L344-L355\n",
      "2024-03-09 21:35:56.177280: I external/local_xla/xla/stream_executor/cuda/cuda_executor.cc:901] successful NUMA node read from SysFS had negative value (-1), but there must be at least one NUMA node, so returning NUMA node zero. See more at https://github.com/torvalds/linux/blob/v6.0/Documentation/ABI/testing/sysfs-bus-pci#L344-L355\n",
      "2024-03-09 21:35:56.177402: I external/local_xla/xla/stream_executor/cuda/cuda_executor.cc:901] successful NUMA node read from SysFS had negative value (-1), but there must be at least one NUMA node, so returning NUMA node zero. See more at https://github.com/torvalds/linux/blob/v6.0/Documentation/ABI/testing/sysfs-bus-pci#L344-L355\n",
      "2024-03-09 21:35:56.177469: I external/local_xla/xla/stream_executor/cuda/cuda_executor.cc:901] successful NUMA node read from SysFS had negative value (-1), but there must be at least one NUMA node, so returning NUMA node zero. See more at https://github.com/torvalds/linux/blob/v6.0/Documentation/ABI/testing/sysfs-bus-pci#L344-L355\n",
      "2024-03-09 21:35:56.186449: I tensorflow/core/common_runtime/gpu/gpu_device.cc:1929] Created device /job:localhost/replica:0/task:0/device:GPU:0 with 2089 MB memory:  -> device: 0, name: NVIDIA GeForce RTX 3050 Ti Laptop GPU, pci bus id: 0000:01:00.0, compute capability: 8.6\n",
      "2024-03-09 21:35:56.278303: I external/local_tsl/tsl/profiler/lib/profiler_session.cc:104] Profiler session initializing.\n",
      "2024-03-09 21:35:56.278315: I external/local_tsl/tsl/profiler/lib/profiler_session.cc:119] Profiler session started.\n",
      "2024-03-09 21:35:56.278331: I external/local_xla/xla/backends/profiler/gpu/cupti_tracer.cc:1883] Profiler found 1 GPUs\n",
      "2024-03-09 21:35:56.351510: E external/local_xla/xla/backends/profiler/gpu/cupti_error_manager.cc:163] cuptiEnableCallback: error 1: CUPTI_ERROR_INVALID_PARAMETER\n",
      "2024-03-09 21:35:56.351530: E external/local_xla/xla/backends/profiler/gpu/cupti_error_manager.cc:449] CuptiErrorManager is disabling profiling automatically.\n",
      "2024-03-09 21:35:56.351533: E external/local_xla/xla/backends/profiler/gpu/cupti_error_manager.cc:449] CuptiErrorManager is disabling profiling automatically.\n",
      "2024-03-09 21:35:56.351540: E external/local_xla/xla/backends/profiler/gpu/cupti_error_manager.cc:459] cuptiGetResultString: ignored due to a previous error.\n",
      "2024-03-09 21:35:56.351542: E external/local_xla/xla/backends/profiler/gpu/cupti_tracer.cc:1941] function cupti_interface_->EnableCallback( 1 , subscriber_, CUPTI_CB_DOMAIN_DRIVER_API, cbid)failed with error \n",
      "2024-03-09 21:35:56.351579: I external/local_tsl/tsl/profiler/lib/profiler_session.cc:131] Profiler session tear down.\n",
      "2024-03-09 21:35:56.351585: E external/local_xla/xla/backends/profiler/gpu/cupti_error_manager.cc:153] cuptiEnableCallback: ignored due to a previous error.\n",
      "2024-03-09 21:35:56.351587: E external/local_xla/xla/backends/profiler/gpu/cupti_error_manager.cc:459] cuptiGetResultString: ignored due to a previous error.\n",
      "2024-03-09 21:35:56.351588: E external/local_xla/xla/backends/profiler/gpu/cupti_tracer.cc:1963] function cupti_interface_->EnableCallback( 0 , subscriber_, CUPTI_CB_DOMAIN_DRIVER_API, cbid)failed with error \n",
      "2024-03-09 21:35:56.351590: E external/local_xla/xla/backends/profiler/gpu/cupti_error_manager.cc:142] cuptiFinalize: ignored due to a previous error.\n",
      "2024-03-09 21:35:56.351592: E external/local_xla/xla/backends/profiler/gpu/cupti_error_manager.cc:459] cuptiGetResultString: ignored due to a previous error.\n",
      "2024-03-09 21:35:56.351593: E external/local_xla/xla/backends/profiler/gpu/cupti_tracer.cc:2026] function cupti_interface_->Finalize()failed with error \n"
     ]
    },
    {
     "name": "stdout",
     "output_type": "stream",
     "text": [
      "Epoch 1/100\n"
     ]
    },
    {
     "name": "stderr",
     "output_type": "stream",
     "text": [
      "2024-03-09 21:35:58.895483: I external/local_xla/xla/stream_executor/cuda/cuda_dnn.cc:454] Loaded cuDNN version 8904\n"
     ]
    },
    {
     "name": "stdout",
     "output_type": "stream",
     "text": [
      "  1/844 [..............................] - ETA: 1:01:43 - loss: 6.7891 - accuracy: 0.1094"
     ]
    },
    {
     "name": "stderr",
     "output_type": "stream",
     "text": [
      "2024-03-09 21:36:01.160989: I external/local_xla/xla/service/service.cc:168] XLA service 0x5961d79508a0 initialized for platform CUDA (this does not guarantee that XLA will be used). Devices:\n",
      "2024-03-09 21:36:01.161010: I external/local_xla/xla/service/service.cc:176]   StreamExecutor device (0): NVIDIA GeForce RTX 3050 Ti Laptop GPU, Compute Capability 8.6\n",
      "2024-03-09 21:36:01.175102: I tensorflow/compiler/mlir/tensorflow/utils/dump_mlir_util.cc:269] disabling MLIR crash reproducer, set env var `MLIR_CRASH_REPRODUCER_DIRECTORY` to enable.\n",
      "WARNING: All log messages before absl::InitializeLog() is called are written to STDERR\n",
      "I0000 00:00:1710012961.236035 1878086 device_compiler.h:186] Compiled cluster using XLA!  This line is logged at most once for the lifetime of the process.\n"
     ]
    },
    {
     "name": "stdout",
     "output_type": "stream",
     "text": [
      "513/844 [=================>............] - ETA: 3s - loss: 1.2313 - accuracy: 0.7577"
     ]
    },
    {
     "name": "stderr",
     "output_type": "stream",
     "text": [
      "2024-03-09 21:36:06.202902: I external/local_tsl/tsl/profiler/lib/profiler_session.cc:104] Profiler session initializing.\n",
      "2024-03-09 21:36:06.202938: I external/local_tsl/tsl/profiler/lib/profiler_session.cc:119] Profiler session started.\n",
      "2024-03-09 21:36:06.202956: E external/local_xla/xla/backends/profiler/gpu/cupti_error_manager.cc:135] cuptiGetTimestamp: ignored due to a previous error.\n",
      "2024-03-09 21:36:06.202964: E external/local_xla/xla/backends/profiler/gpu/cupti_error_manager.cc:186] cuptiSubscribe: ignored due to a previous error.\n",
      "2024-03-09 21:36:06.202969: E external/local_xla/xla/backends/profiler/gpu/cupti_error_manager.cc:459] cuptiGetResultString: ignored due to a previous error.\n",
      "2024-03-09 21:36:06.202974: E external/local_xla/xla/backends/profiler/gpu/cupti_tracer.cc:1935] function cupti_interface_->Subscribe( &subscriber_, (CUpti_CallbackFunc)ApiCallback, this)failed with error \n",
      "2024-03-09 21:36:06.384015: I external/local_tsl/tsl/profiler/lib/profiler_session.cc:70] Profiler session collecting data.\n",
      "2024-03-09 21:36:06.385625: E external/local_xla/xla/backends/profiler/gpu/cupti_error_manager.cc:142] cuptiFinalize: ignored due to a previous error.\n",
      "2024-03-09 21:36:06.385637: E external/local_xla/xla/backends/profiler/gpu/cupti_error_manager.cc:459] cuptiGetResultString: ignored due to a previous error.\n",
      "2024-03-09 21:36:06.385641: E external/local_xla/xla/backends/profiler/gpu/cupti_tracer.cc:2026] function cupti_interface_->Finalize()failed with error \n",
      "2024-03-09 21:36:06.403850: E external/local_xla/xla/backends/profiler/gpu/cupti_error_manager.cc:135] cuptiGetTimestamp: ignored due to a previous error.\n",
      "2024-03-09 21:36:06.403873: E external/local_xla/xla/backends/profiler/gpu/cupti_error_manager.cc:135] cuptiGetTimestamp: ignored due to a previous error.\n",
      "2024-03-09 21:36:06.403877: I external/local_xla/xla/backends/profiler/gpu/cupti_collector.cc:541]  GpuTracer has collected 0 callback api events and 0 activity events. \n"
     ]
    },
    {
     "name": "stdout",
     "output_type": "stream",
     "text": [
      "541/844 [==================>...........] - ETA: 3s - loss: 1.2045 - accuracy: 0.7595"
     ]
    },
    {
     "name": "stderr",
     "output_type": "stream",
     "text": [
      "2024-03-09 21:36:06.413820: I external/local_tsl/tsl/profiler/lib/profiler_session.cc:131] Profiler session tear down.\n",
      "2024-03-09 21:36:06.425268: I external/local_tsl/tsl/profiler/rpc/client/save_profile.cc:144] Collecting XSpace to repository: cnn_fmnist/logs/with_conv_dropout02+4conv+BatchNorm_20240309-2135/plugins/profile/2024_03_09_21_36_06/etheleigh.xplane.pb\n"
     ]
    },
    {
     "name": "stdout",
     "output_type": "stream",
     "text": [
      "844/844 [==============================] - 13s 11ms/step - loss: 0.9867 - accuracy: 0.7813 - val_loss: 0.3736 - val_accuracy: 0.8695\n",
      "Epoch 2/100\n",
      "844/844 [==============================] - 8s 9ms/step - loss: 0.4588 - accuracy: 0.8455 - val_loss: 0.3346 - val_accuracy: 0.8770\n",
      "Epoch 3/100\n",
      "844/844 [==============================] - 8s 9ms/step - loss: 0.3682 - accuracy: 0.8704 - val_loss: 0.2963 - val_accuracy: 0.8937\n",
      "Epoch 4/100\n",
      "844/844 [==============================] - 8s 9ms/step - loss: 0.3358 - accuracy: 0.8811 - val_loss: 0.2778 - val_accuracy: 0.8997\n",
      "Epoch 5/100\n",
      "844/844 [==============================] - 8s 9ms/step - loss: 0.3152 - accuracy: 0.8881 - val_loss: 0.3053 - val_accuracy: 0.8877\n",
      "Epoch 6/100\n",
      "844/844 [==============================] - 7s 9ms/step - loss: 0.2998 - accuracy: 0.8924 - val_loss: 0.3284 - val_accuracy: 0.8785\n",
      "Epoch 7/100\n",
      "844/844 [==============================] - 8s 9ms/step - loss: 0.2911 - accuracy: 0.8956 - val_loss: 0.3053 - val_accuracy: 0.8907\n",
      "Epoch 8/100\n",
      "844/844 [==============================] - 7s 9ms/step - loss: 0.2864 - accuracy: 0.8993 - val_loss: 0.2959 - val_accuracy: 0.8878\n",
      "Epoch 9/100\n",
      "844/844 [==============================] - 8s 9ms/step - loss: 0.2796 - accuracy: 0.8993 - val_loss: 0.2894 - val_accuracy: 0.8990\n",
      "Epoch 10/100\n",
      "844/844 [==============================] - 8s 9ms/step - loss: 0.2734 - accuracy: 0.9006 - val_loss: 0.2972 - val_accuracy: 0.8910\n",
      "Epoch 11/100\n",
      "844/844 [==============================] - 8s 9ms/step - loss: 0.2678 - accuracy: 0.9021 - val_loss: 0.2701 - val_accuracy: 0.9082\n",
      "Epoch 12/100\n",
      "844/844 [==============================] - 8s 9ms/step - loss: 0.2645 - accuracy: 0.9052 - val_loss: 0.2413 - val_accuracy: 0.9148\n",
      "Epoch 13/100\n",
      "844/844 [==============================] - 8s 9ms/step - loss: 0.2611 - accuracy: 0.9069 - val_loss: 0.3055 - val_accuracy: 0.8882\n",
      "Epoch 14/100\n",
      "844/844 [==============================] - 8s 9ms/step - loss: 0.2535 - accuracy: 0.9092 - val_loss: 0.2611 - val_accuracy: 0.9048\n",
      "Epoch 15/100\n",
      "844/844 [==============================] - 8s 9ms/step - loss: 0.2525 - accuracy: 0.9093 - val_loss: 0.2372 - val_accuracy: 0.9108\n",
      "Epoch 16/100\n",
      "844/844 [==============================] - 8s 9ms/step - loss: 0.2489 - accuracy: 0.9098 - val_loss: 0.2382 - val_accuracy: 0.9112\n",
      "Epoch 17/100\n",
      "844/844 [==============================] - 7s 9ms/step - loss: 0.2420 - accuracy: 0.9139 - val_loss: 0.2642 - val_accuracy: 0.9047\n",
      "Epoch 18/100\n",
      "844/844 [==============================] - 7s 9ms/step - loss: 0.2430 - accuracy: 0.9123 - val_loss: 0.2760 - val_accuracy: 0.8948\n",
      "Epoch 19/100\n",
      "844/844 [==============================] - 7s 9ms/step - loss: 0.2369 - accuracy: 0.9141 - val_loss: 0.2241 - val_accuracy: 0.9197\n",
      "Epoch 20/100\n",
      "844/844 [==============================] - 8s 9ms/step - loss: 0.2372 - accuracy: 0.9144 - val_loss: 0.2127 - val_accuracy: 0.9225\n",
      "Epoch 21/100\n",
      "844/844 [==============================] - 7s 9ms/step - loss: 0.2335 - accuracy: 0.9167 - val_loss: 0.2137 - val_accuracy: 0.9213\n",
      "Epoch 22/100\n",
      "844/844 [==============================] - 8s 9ms/step - loss: 0.2339 - accuracy: 0.9141 - val_loss: 0.2071 - val_accuracy: 0.9238\n",
      "Epoch 23/100\n",
      "844/844 [==============================] - 8s 9ms/step - loss: 0.2345 - accuracy: 0.9157 - val_loss: 0.2246 - val_accuracy: 0.9135\n",
      "Epoch 24/100\n",
      "844/844 [==============================] - 7s 9ms/step - loss: 0.2265 - accuracy: 0.9190 - val_loss: 0.2189 - val_accuracy: 0.9185\n",
      "Epoch 25/100\n",
      "844/844 [==============================] - 7s 9ms/step - loss: 0.2270 - accuracy: 0.9186 - val_loss: 0.2174 - val_accuracy: 0.9228\n",
      "Epoch 26/100\n",
      "844/844 [==============================] - 7s 9ms/step - loss: 0.2261 - accuracy: 0.9166 - val_loss: 0.2201 - val_accuracy: 0.9218\n",
      "Epoch 27/100\n",
      "844/844 [==============================] - 8s 9ms/step - loss: 0.2221 - accuracy: 0.9211 - val_loss: 0.2110 - val_accuracy: 0.9257\n",
      "Epoch 28/100\n",
      "844/844 [==============================] - 7s 9ms/step - loss: 0.2223 - accuracy: 0.9201 - val_loss: 0.2324 - val_accuracy: 0.9162\n",
      "Epoch 29/100\n",
      "844/844 [==============================] - 8s 9ms/step - loss: 0.2215 - accuracy: 0.9192 - val_loss: 0.2175 - val_accuracy: 0.9228\n",
      "Epoch 30/100\n",
      "844/844 [==============================] - 8s 9ms/step - loss: 0.2168 - accuracy: 0.9224 - val_loss: 0.2288 - val_accuracy: 0.9133\n",
      "Epoch 31/100\n",
      "844/844 [==============================] - 8s 9ms/step - loss: 0.2161 - accuracy: 0.9204 - val_loss: 0.2090 - val_accuracy: 0.9273\n",
      "Epoch 32/100\n",
      "844/844 [==============================] - 7s 9ms/step - loss: 0.2171 - accuracy: 0.9224 - val_loss: 0.2455 - val_accuracy: 0.9120\n",
      "Epoch 33/100\n",
      "844/844 [==============================] - 8s 9ms/step - loss: 0.2164 - accuracy: 0.9209 - val_loss: 0.2488 - val_accuracy: 0.9182\n",
      "Epoch 34/100\n",
      "844/844 [==============================] - 8s 9ms/step - loss: 0.2107 - accuracy: 0.9242 - val_loss: 0.2364 - val_accuracy: 0.9167\n",
      "Epoch 35/100\n",
      "844/844 [==============================] - 8s 9ms/step - loss: 0.2140 - accuracy: 0.9222 - val_loss: 0.2397 - val_accuracy: 0.9193\n",
      "Epoch 36/100\n",
      "844/844 [==============================] - 8s 9ms/step - loss: 0.2145 - accuracy: 0.9221 - val_loss: 0.2114 - val_accuracy: 0.9265\n",
      "Epoch 37/100\n",
      "844/844 [==============================] - 7s 9ms/step - loss: 0.2088 - accuracy: 0.9256 - val_loss: 0.2638 - val_accuracy: 0.9103\n",
      "Epoch 38/100\n",
      "844/844 [==============================] - 7s 9ms/step - loss: 0.2097 - accuracy: 0.9243 - val_loss: 0.2738 - val_accuracy: 0.9063\n",
      "Epoch 39/100\n",
      "844/844 [==============================] - 8s 9ms/step - loss: 0.2071 - accuracy: 0.9259 - val_loss: 0.2311 - val_accuracy: 0.9195\n",
      "Epoch 40/100\n",
      "844/844 [==============================] - 7s 9ms/step - loss: 0.2087 - accuracy: 0.9248 - val_loss: 0.2044 - val_accuracy: 0.9282\n",
      "Epoch 41/100\n",
      "844/844 [==============================] - 7s 8ms/step - loss: 0.2071 - accuracy: 0.9250 - val_loss: 0.2631 - val_accuracy: 0.9010\n",
      "Epoch 42/100\n",
      "844/844 [==============================] - 8s 9ms/step - loss: 0.2046 - accuracy: 0.9260 - val_loss: 0.2460 - val_accuracy: 0.9088\n",
      "Epoch 43/100\n",
      "844/844 [==============================] - 7s 9ms/step - loss: 0.2065 - accuracy: 0.9242 - val_loss: 0.2521 - val_accuracy: 0.9133\n",
      "Epoch 44/100\n",
      "844/844 [==============================] - 7s 9ms/step - loss: 0.2060 - accuracy: 0.9257 - val_loss: 0.2595 - val_accuracy: 0.9123\n",
      "Epoch 45/100\n",
      "844/844 [==============================] - 8s 9ms/step - loss: 0.2019 - accuracy: 0.9269 - val_loss: 0.2057 - val_accuracy: 0.9310\n",
      "Epoch 46/100\n",
      "844/844 [==============================] - 7s 9ms/step - loss: 0.2038 - accuracy: 0.9281 - val_loss: 0.2124 - val_accuracy: 0.9223\n",
      "Epoch 47/100\n",
      "844/844 [==============================] - 8s 9ms/step - loss: 0.1986 - accuracy: 0.9274 - val_loss: 0.2442 - val_accuracy: 0.9128\n",
      "Epoch 48/100\n",
      "844/844 [==============================] - 8s 9ms/step - loss: 0.2027 - accuracy: 0.9260 - val_loss: 0.2153 - val_accuracy: 0.9188\n",
      "Epoch 49/100\n",
      "844/844 [==============================] - 7s 9ms/step - loss: 0.2009 - accuracy: 0.9271 - val_loss: 0.2165 - val_accuracy: 0.9218\n",
      "Epoch 50/100\n",
      "844/844 [==============================] - 8s 9ms/step - loss: 0.1989 - accuracy: 0.9281 - val_loss: 0.2083 - val_accuracy: 0.9242\n",
      "Epoch 51/100\n",
      "844/844 [==============================] - 7s 9ms/step - loss: 0.1979 - accuracy: 0.9286 - val_loss: 0.2137 - val_accuracy: 0.9245\n",
      "Epoch 52/100\n",
      "844/844 [==============================] - 7s 9ms/step - loss: 0.2000 - accuracy: 0.9274 - val_loss: 0.2010 - val_accuracy: 0.9252\n",
      "Epoch 53/100\n",
      "844/844 [==============================] - 8s 9ms/step - loss: 0.2011 - accuracy: 0.9264 - val_loss: 0.2091 - val_accuracy: 0.9235\n",
      "Epoch 54/100\n",
      "844/844 [==============================] - 7s 8ms/step - loss: 0.1956 - accuracy: 0.9289 - val_loss: 0.2150 - val_accuracy: 0.9253\n",
      "Epoch 55/100\n",
      "844/844 [==============================] - 7s 8ms/step - loss: 0.1962 - accuracy: 0.9286 - val_loss: 0.2022 - val_accuracy: 0.9265\n",
      "Epoch 56/100\n",
      "844/844 [==============================] - 7s 9ms/step - loss: 0.1958 - accuracy: 0.9294 - val_loss: 0.2172 - val_accuracy: 0.9208\n",
      "Epoch 57/100\n",
      "844/844 [==============================] - 8s 9ms/step - loss: 0.1961 - accuracy: 0.9291 - val_loss: 0.2144 - val_accuracy: 0.9267\n",
      "Epoch 58/100\n",
      "844/844 [==============================] - 7s 9ms/step - loss: 0.1941 - accuracy: 0.9294 - val_loss: 0.2067 - val_accuracy: 0.9283\n",
      "Epoch 59/100\n",
      "844/844 [==============================] - 8s 9ms/step - loss: 0.1915 - accuracy: 0.9310 - val_loss: 0.2032 - val_accuracy: 0.9273\n",
      "Epoch 60/100\n",
      "844/844 [==============================] - 7s 8ms/step - loss: 0.1985 - accuracy: 0.9291 - val_loss: 0.2184 - val_accuracy: 0.9227\n",
      "Epoch 61/100\n",
      "844/844 [==============================] - 8s 9ms/step - loss: 0.1943 - accuracy: 0.9297 - val_loss: 0.2185 - val_accuracy: 0.9208\n",
      "Epoch 62/100\n",
      "844/844 [==============================] - 8s 9ms/step - loss: 0.1928 - accuracy: 0.9292 - val_loss: 0.1957 - val_accuracy: 0.9265\n",
      "Epoch 63/100\n",
      "844/844 [==============================] - 7s 9ms/step - loss: 0.1915 - accuracy: 0.9302 - val_loss: 0.2013 - val_accuracy: 0.9257\n",
      "Epoch 64/100\n",
      "844/844 [==============================] - 7s 9ms/step - loss: 0.1911 - accuracy: 0.9311 - val_loss: 0.2286 - val_accuracy: 0.9198\n",
      "Epoch 65/100\n",
      "843/844 [============================>.] - ETA: 0s - loss: 0.1922 - accuracy: 0.9300Restoring model weights from the end of the best epoch: 45.\n",
      "844/844 [==============================] - 7s 9ms/step - loss: 0.1922 - accuracy: 0.9300 - val_loss: 0.2051 - val_accuracy: 0.9265\n",
      "Epoch 65: early stopping\n",
      "Finished training.\n",
      "------------------\n"
     ]
    }
   ],
   "source": [
    "optimizer = Adam() #standard learning rate\n",
    "optimizer = mp.LossScaleOptimizer(optimizer)\n",
    "\n",
    "model_path=\"cnn_fmnist\"\n",
    "run_name=\"with_conv_dropout02+2conv+BatchNorm_16filters_\"\n",
    "\n",
    "# CNN\n",
    "cnn_model_fmnist, cnn_hs_fmnist = train_model_cnn_fmnist(\n",
    "    train_data=X_train,\n",
    "    train_labels=Y_train,\n",
    "    optimizer=optimizer,\n",
    "    epochs=100,\n",
    "    batch_size=64,\n",
    "    data_augmentation=False,\n",
    "    num_filters=16,\n",
    "    conv_layers=2,\n",
    "    conv_activation='gelu',\n",
    "    conv_dropout=True,\n",
    "    batch_normalization=True,\n",
    "    dropout_rate=0.2,\n",
    "    output_activation='softmax',\n",
    "    verbose=1,\n",
    "    model_path=model_path,\n",
    "    run_name=run_name\n",
    ")"
   ]
  },
  {
   "cell_type": "code",
   "execution_count": 12,
   "id": "a841e9d0-73de-4d67-bee7-85978f03a34c",
   "metadata": {},
   "outputs": [
    {
     "name": "stdout",
     "output_type": "stream",
     "text": [
      "313/313 [==============================] - 1s 2ms/step - loss: 0.2341 - accuracy: 0.9184\n"
     ]
    },
    {
     "data": {
      "text/plain": [
       "[0.234099879860878, 0.91839998960495]"
      ]
     },
     "execution_count": 12,
     "metadata": {},
     "output_type": "execute_result"
    }
   ],
   "source": [
    "cnn_model_fmnist.evaluate(X_test, Y_test, verbose=1)"
   ]
  },
  {
   "cell_type": "code",
   "execution_count": 133,
   "id": "8524d0f8-9496-47f2-a0db-aa177accbb0d",
   "metadata": {},
   "outputs": [
    {
     "name": "stdout",
     "output_type": "stream",
     "text": [
      "Model: with_conv_dropout02+4conv+BatchNorm_model.keras, Accuracy: 0.9110\n",
      "Model: with_conv_dropout_5conv_model.keras, Accuracy: 0.9109\n",
      "Model: with_conv_dropout_4conv_model.keras, Accuracy: 0.9089\n",
      "Model: with_conv_dropout02+8conv_model.keras, Accuracy: 0.9087\n",
      "Model: with_conv_dropout_3convmodel.keras, Accuracy: 0.9071\n",
      "Model: with_conv_dropout_4conv_moreDensemodel.keras, Accuracy: 0.9054\n",
      "Model: with_conv_dropout_3conv_relumodel.keras, Accuracy: 0.9025\n",
      "Model: with_conv_dropout_2convmodel.keras, Accuracy: 0.9011\n",
      "Model: with_conv_dropout_3conv_model.keras, Accuracy: 0.8997\n",
      "Model: with_conv_dropout_3conv_v2_model.keras, Accuracy: 0.8977\n",
      "Model: with_conv_dropout+8conv+data_aug_model.keras, Accuracy: 0.8713\n",
      "Model: with_conv_dropout+5conv+data_aug_model.keras, Accuracy: 0.8502\n"
     ]
    }
   ],
   "source": [
    "# Evaluate all models\n",
    "sorted_results = evaluate_models_in_folder(\"cnn_fmnist\", X_test, Y_test, verbose=0)\n",
    "for model_file, evaluation_result in sorted_results.items():\n",
    "    print(f\"Model: {model_file}, Accuracy: {evaluation_result[1]:.4f}\")"
   ]
  },
  {
   "cell_type": "code",
   "execution_count": 135,
   "id": "291aa0d2-9313-4690-b95b-84f805234498",
   "metadata": {},
   "outputs": [],
   "source": [
    "tf.keras.backend.clear_session()"
   ]
  },
  {
   "cell_type": "code",
   "execution_count": 136,
   "id": "bf4d9048-dc50-428d-a61b-87e0d62b70c3",
   "metadata": {
    "editable": true,
    "slideshow": {
     "slide_type": ""
    },
    "tags": []
   },
   "outputs": [
    {
     "name": "stdout",
     "output_type": "stream",
     "text": [
      "Model: \"cnn_fmnist\"\n",
      "_________________________________________________________________\n",
      " Layer (type)                Output Shape              Param #   \n",
      "=================================================================\n",
      " Input (InputLayer)          [(None, 28, 28, 1)]       0         \n",
      "                                                                 \n",
      " Conv2D-1 (Conv2D)           (None, 28, 28, 8)         72        \n",
      "                                                                 \n",
      " BatchNorm-1 (BatchNormaliz  (None, 28, 28, 8)         32        \n",
      " ation)                                                          \n",
      "                                                                 \n",
      " activation (Activation)     (None, 28, 28, 8)         0         \n",
      "                                                                 \n",
      " MaxPool2D-1 (MaxPooling2D)  (None, 14, 14, 8)         0         \n",
      "                                                                 \n",
      " Conv_Dropout-1 (Dropout)    (None, 14, 14, 8)         0         \n",
      "                                                                 \n",
      " Conv2D-2 (Conv2D)           (None, 14, 14, 16)        1152      \n",
      "                                                                 \n",
      " BatchNorm-2 (BatchNormaliz  (None, 14, 14, 16)        64        \n",
      " ation)                                                          \n",
      "                                                                 \n",
      " activation_1 (Activation)   (None, 14, 14, 16)        0         \n",
      "                                                                 \n",
      " MaxPool2D-2 (MaxPooling2D)  (None, 7, 7, 16)          0         \n",
      "                                                                 \n",
      " Conv_Dropout-2 (Dropout)    (None, 7, 7, 16)          0         \n",
      "                                                                 \n",
      " Conv2D-3 (Conv2D)           (None, 7, 7, 32)          4608      \n",
      "                                                                 \n",
      " BatchNorm-3 (BatchNormaliz  (None, 7, 7, 32)          128       \n",
      " ation)                                                          \n",
      "                                                                 \n",
      " activation_2 (Activation)   (None, 7, 7, 32)          0         \n",
      "                                                                 \n",
      " MaxPool2D-3 (MaxPooling2D)  (None, 4, 4, 32)          0         \n",
      "                                                                 \n",
      " Conv_Dropout-3 (Dropout)    (None, 4, 4, 32)          0         \n",
      "                                                                 \n",
      " Conv2D-4 (Conv2D)           (None, 4, 4, 64)          18432     \n",
      "                                                                 \n",
      " BatchNorm-4 (BatchNormaliz  (None, 4, 4, 64)          256       \n",
      " ation)                                                          \n",
      "                                                                 \n",
      " activation_3 (Activation)   (None, 4, 4, 64)          0         \n",
      "                                                                 \n",
      " MaxPool2D-4 (MaxPooling2D)  (None, 2, 2, 64)          0         \n",
      "                                                                 \n",
      " Conv_Dropout-4 (Dropout)    (None, 2, 2, 64)          0         \n",
      "                                                                 \n",
      " Flatten (Flatten)           (None, 256)               0         \n",
      "                                                                 \n",
      " dropout (Dropout)           (None, 256)               0         \n",
      "                                                                 \n",
      " Dense-1 (Dense)             (None, 256)               65792     \n",
      "                                                                 \n",
      " Dense_Dropout-1 (Dropout)   (None, 256)               0         \n",
      "                                                                 \n",
      " Dense-2 (Dense)             (None, 128)               32896     \n",
      "                                                                 \n",
      " Dense_Dropout-2 (Dropout)   (None, 128)               0         \n",
      "                                                                 \n",
      " Output (Dense)              (None, 10)                1290      \n",
      "                                                                 \n",
      "=================================================================\n",
      "Total params: 124722 (487.20 KB)\n",
      "Trainable params: 124482 (486.26 KB)\n",
      "Non-trainable params: 240 (960.00 Byte)\n",
      "_________________________________________________________________\n",
      "313/313 [==============================] - 1s 2ms/step - loss: 0.2440 - accuracy: 0.9110\n"
     ]
    },
    {
     "data": {
      "text/plain": [
       "[0.24400225281715393, 0.9110000133514404]"
      ]
     },
     "execution_count": 136,
     "metadata": {},
     "output_type": "execute_result"
    }
   ],
   "source": [
    "model = tf.keras.models.load_model(\"cnn_fmnist/with_conv_dropout02+4conv+BatchNorm_model.keras\")\n",
    "\n",
    "model.summary()\n",
    "\n",
    "model.evaluate(X_test, Y_test, verbose=1)"
   ]
  },
  {
   "cell_type": "code",
   "execution_count": 137,
   "id": "2b8fedad-ad99-49c0-9bbd-1b6ec984c6c2",
   "metadata": {
    "editable": true,
    "slideshow": {
     "slide_type": ""
    },
    "tags": []
   },
   "outputs": [],
   "source": [
    "# # Load model and evaluate on test data. Show all the results.\n",
    "# model = tf.keras.models.load_model(\"cnn_fmnist/with_conv_dropout_4conv_model.keras\")\n",
    "\n",
    "# model.evaluate(X_test, Y_test, verbose=1)\n",
    "\n",
    "# # Load and plot the history\n",
    "# with open('cnn_fmnist/with_conv_dropout_3convhistory.pkl', 'rb') as file:\n",
    "#     hs_3cv = pickle.load(file)\n",
    "\n",
    "# with open('cnn_fmnist/with_conv_dropout_4conv_history.pkl', 'rb') as file:\n",
    "#     hs_4cv = pickle.load(file)\n",
    "\n",
    "\n",
    "    \n",
    "# plot_history(hs={'Fashion MNIST - CNN-Dropout 0.2 - 3 Conv': hs_3cv,\n",
    "#                  'Fashion MNIST - CNN-Dropout 0.2 - 4 Conv_relu': hs_4cv\n",
    "#                 }, metric='accuracy')"
   ]
  },
  {
   "cell_type": "code",
   "execution_count": null,
   "id": "91acab78-4fc5-4f21-9430-5d495fa11dce",
   "metadata": {},
   "outputs": [],
   "source": []
  },
  {
   "cell_type": "code",
   "execution_count": null,
   "id": "f475469f-3e44-4b89-b5f3-778a81438cd0",
   "metadata": {},
   "outputs": [],
   "source": []
  },
  {
   "cell_type": "markdown",
   "id": "d5e27ea2-52e1-41ba-be21-22999363c4a2",
   "metadata": {},
   "source": [
    "# CIFAR10"
   ]
  },
  {
   "cell_type": "markdown",
   "id": "f71db8d2-364f-4e96-b00c-e0f9f09c14e9",
   "metadata": {},
   "source": [
    "## Loading CIFAR10 Data from Tensorflow"
   ]
  },
  {
   "cell_type": "code",
   "execution_count": 11,
   "id": "7019e6e0-f87c-4b0a-98d8-092032e67265",
   "metadata": {
    "editable": true,
    "slideshow": {
     "slide_type": ""
    },
    "tags": []
   },
   "outputs": [
    {
     "name": "stdout",
     "output_type": "stream",
     "text": [
      "Training images shape: (50000, 32, 32, 3)\n",
      "Training labels shape: (50000, 1)\n",
      "Testing images shape: (10000, 32, 32, 3)\n",
      "Testing labels shape: (10000, 1)\n"
     ]
    },
    {
     "data": {
      "image/png": "[encoded data removed]",
      "text/plain": [
       "<Figure size 1000x500 with 10 Axes>"
      ]
     },
     "metadata": {},
     "output_type": "display_data"
    }
   ],
   "source": [
    "# Load CIFAR-10 dataset\n",
    "(train_images, train_labels), (test_images, test_labels) = tf.keras.datasets.cifar10.load_data()\n",
    "\n",
    "# Print shapes of the loaded data\n",
    "print(\"Training images shape:\", train_images.shape)\n",
    "print(\"Training labels shape:\", train_labels.shape)\n",
    "print(\"Testing images shape:\", test_images.shape)\n",
    "print(\"Testing labels shape:\", test_labels.shape)\n",
    "\n",
    "# Define class names\n",
    "class_names = ['airplane', 'automobile', 'bird', 'cat', 'deer', 'dog', 'frog', 'horse', 'ship', 'truck']\n",
    "\n",
    "# Plot 10 random examples with their labels\n",
    "plt.figure(figsize=(10, 5))\n",
    "for i in range(10):\n",
    "    idx = np.random.randint(0, train_images.shape[0])\n",
    "    plt.subplot(2, 5, i+1)\n",
    "    plt.imshow(train_images[idx])\n",
    "    plt.title(class_names[train_labels[idx][0]])\n",
    "    plt.axis('off')\n",
    "plt.show()"
   ]
  },
  {
   "cell_type": "markdown",
   "id": "d260eab4-d3b2-4548-853f-9699a2f6e80b",
   "metadata": {},
   "source": [
    "### MLP"
   ]
  },
  {
   "cell_type": "code",
   "execution_count": null,
   "id": "3ba337d5-dfa7-418b-b52d-cbf894d71425",
   "metadata": {},
   "outputs": [],
   "source": []
  },
  {
   "cell_type": "markdown",
   "id": "3f50c816-680d-4984-a547-8c1dc10371ae",
   "metadata": {},
   "source": [
    "### CNN"
   ]
  },
  {
   "cell_type": "code",
   "execution_count": null,
   "id": "e8f48be5-b2aa-4514-99d5-e06b36a27747",
   "metadata": {},
   "outputs": [],
   "source": []
  },
  {
   "cell_type": "code",
   "execution_count": null,
   "id": "bf08cc95-1279-441b-9ae4-0b8a684dc3f5",
   "metadata": {},
   "outputs": [],
   "source": []
  },
  {
   "cell_type": "code",
   "execution_count": 12,
   "id": "eec0d4f1-7132-4e4f-916c-ad132637a31e",
   "metadata": {},
   "outputs": [],
   "source": [
    "# import wandb\n",
    "# wandb.login()\n",
    "# run = wandb.init(project=\"jupyter-projo\",\n",
    "#                  config={\"batch_size\": 128,\n",
    "#                          \"learning_rate\": 0.01,\n",
    "#                          \"dataset\": \"CIFAR-10\"})"
   ]
  },
  {
   "cell_type": "code",
   "execution_count": 13,
   "id": "7944c218-f0d5-49a6-9626-424163e6fe4d",
   "metadata": {},
   "outputs": [],
   "source": [
    "# import time\n",
    "\n",
    "# for ii in range(30):\n",
    "#   wandb.log({\"acc\": 1 - 2 ** -ii, \"loss\": 2 ** -ii})\n",
    "#   time.sleep(0.5)"
   ]
  },
  {
   "cell_type": "code",
   "execution_count": 14,
   "id": "693d0009-2302-4f16-b399-77a41540480d",
   "metadata": {},
   "outputs": [],
   "source": [
    "# if wandb.run is not None:\n",
    "#   wandb.finish()"
   ]
  },
  {
   "cell_type": "code",
   "execution_count": null,
   "id": "9c1436dd-c0d1-43be-b3fd-c54d8095f172",
   "metadata": {},
   "outputs": [],
   "source": []
  }
 ],
 "metadata": {
  "kernelspec": {
   "display_name": "Python 3 (ipykernel)",
   "language": "python",
   "name": "python3"
  },
  "language_info": {
   "codemirror_mode": {
    "name": "ipython",
    "version": 3
   },
   "file_extension": ".py",
   "mimetype": "text/x-python",
   "name": "python",
   "nbconvert_exporter": "python",
   "pygments_lexer": "ipython3",
   "version": "3.10.12"
  }
 },
 "nbformat": 4,
 "nbformat_minor": 5
}
